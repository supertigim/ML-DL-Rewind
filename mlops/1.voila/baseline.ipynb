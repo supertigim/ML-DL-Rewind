{
 "cells": [
  {
   "cell_type": "markdown",
   "id": "strange-sensitivity",
   "metadata": {},
   "source": [
    "## 0. Libarary Import"
   ]
  },
  {
   "cell_type": "code",
   "execution_count": null,
   "id": "novel-patent",
   "metadata": {},
   "outputs": [],
   "source": [
    "import io\n",
    "import os\n",
    "import yaml\n",
    "\n",
    "import pandas as pd\n",
    "import numpy as np\n",
    "from PIL import Image\n",
    "import torch\n",
    "import torch.nn as nn\n",
    "import torch.nn.functional as F\n",
    "\n",
    "from efficientnet_pytorch import EfficientNet\n",
    "\n",
    "import albumentations\n",
    "import albumentations.pytorch\n",
    "\n",
    "import ipywidgets as widgets\n",
    "from IPython.display import Image as display_image\n",
    "\n",
    "from typing import Tuple"
   ]
  },
  {
   "cell_type": "markdown",
   "id": "labeled-recall",
   "metadata": {},
   "source": [
    "## 1. 모델 정의 & 설정\n",
    "### 사전에 학습된 모델을 로딩"
   ]
  },
  {
   "cell_type": "code",
   "execution_count": null,
   "id": "passive-sitting",
   "metadata": {},
   "outputs": [],
   "source": [
    "with open(\"config.yaml\") as f:\n",
    "    config = yaml.load(f, Loader=yaml.FullLoader)"
   ]
  },
  {
   "cell_type": "code",
   "execution_count": null,
   "id": "frequent-grade",
   "metadata": {},
   "outputs": [],
   "source": [
    "class MyEfficientNet(nn.Module) :\n",
    "    '''\n",
    "    EfiicientNet-b4의 출력층만 변경합니다.\n",
    "    한번에 18개의 Class를 예측하는 형태의 Model입니다.\n",
    "    '''\n",
    "    def __init__(self, num_classes: int = 18) :\n",
    "        super(MyEfficientNet, self).__init__()\n",
    "        self.EFF = EfficientNet.from_pretrained('efficientnet-b4', in_channels=3, num_classes=num_classes)\n",
    "    \n",
    "    def forward(self, x) -> torch.Tensor:\n",
    "        x = self.EFF(x)\n",
    "        x = F.softmax(x, dim=1)\n",
    "        return x"
   ]
  },
  {
   "cell_type": "code",
   "execution_count": null,
   "id": "usual-lotus",
   "metadata": {},
   "outputs": [],
   "source": [
    "def transform_image(image_bytes) -> torch.Tensor:\n",
    "    transform = albumentations.Compose([\n",
    "            albumentations.Resize(height=512, width=384),\n",
    "            albumentations.Normalize(mean=(0.5, 0.5, 0.5), \n",
    "                                     std=(0.2, 0.2, 0.2)),\n",
    "            albumentations.pytorch.transforms.ToTensorV2()\n",
    "        ])\n",
    "    image = Image.open(io.BytesIO(image_bytes))\n",
    "    image = image.convert('RGB')\n",
    "    image_array = np.array(image)\n",
    "    return transform(image=image_array)['image'].unsqueeze(0)"
   ]
  },
  {
   "cell_type": "code",
   "execution_count": null,
   "id": "demanding-intake",
   "metadata": {
    "scrolled": false
   },
   "outputs": [],
   "source": [
    "device = torch.device(\"cuda\" if torch.cuda.is_available() else \"cpu\")\n",
    "\n",
    "model = MyEfficientNet(num_classes=18).to(device)\n",
    "model.load_state_dict(torch.load(config['model_path'], map_location=device))\n",
    "model.eval()"
   ]
  },
  {
   "cell_type": "code",
   "execution_count": null,
   "id": "technical-calculator",
   "metadata": {},
   "outputs": [],
   "source": [
    "def get_prediction(image_bytes: bytes) -> Tuple[torch.Tensor, torch.Tensor]:\n",
    "    device = torch.device(\"cuda\" if torch.cuda.is_available() else \"cpu\")\n",
    "    tensor = transform_image(image_bytes=image_bytes).to(device)\n",
    "    outputs = model.forward(tensor)\n",
    "    _, y_hat = outputs.max(1)\n",
    "    return tensor, y_hat"
   ]
  },
  {
   "cell_type": "markdown",
   "id": "moderate-malaysia",
   "metadata": {},
   "source": [
    "## 2. Inference \n"
   ]
  },
  {
   "cell_type": "code",
   "execution_count": null,
   "id": "1f01f965",
   "metadata": {},
   "outputs": [],
   "source": [
    "uploader = widgets.FileUpload(\n",
    "    accept='.png, .jpg, .jpeg',\n",
    "    multiple= False\n",
    ")\n",
    "display(uploader)"
   ]
  },
  {
   "cell_type": "code",
   "execution_count": null,
   "id": "15c8e8de",
   "metadata": {},
   "outputs": [],
   "source": [
    "def on_display_click_cb(clicked_button: widgets.Button) -> None:\n",
    "    global content \n",
    "    uploader_filename = next(iter(uploader.value))\n",
    "    content = uploader.value[uploader_filename]['content']\n",
    "    display_image_space.value = content"
   ]
  },
  {
   "cell_type": "code",
   "execution_count": null,
   "id": "764856da",
   "metadata": {},
   "outputs": [],
   "source": [
    "display_button = widgets.Button(description='Display Image')\n",
    "display_image_space = widgets.Image()\n",
    "\n",
    "display_button.on_click(on_display_click_cb)\n",
    "display(display_button, display_image_space)"
   ]
  },
  {
   "cell_type": "code",
   "execution_count": null,
   "id": "8109fbe4",
   "metadata": {},
   "outputs": [],
   "source": [
    "def on_inference_click_cb(clicked_button: widgets.Button) -> None:\n",
    "    with inference_output:\n",
    "        inference_output.clear_output()\n",
    "        _, output = get_prediction(content)\n",
    "        print(output, config['classes'][output.item()])"
   ]
  },
  {
   "cell_type": "code",
   "execution_count": null,
   "id": "ef8faf5e",
   "metadata": {},
   "outputs": [],
   "source": [
    "inference_button = widgets.Button(description='Inference')\n",
    "inference_output = widgets.Output(layout={'border': '1ox solid black'})\n",
    "\n",
    "inference_button.on_click(on_inference_click_cb)\n",
    "display(inference_button, inference_output)"
   ]
  }
 ],
 "metadata": {
  "kernelspec": {
   "display_name": "Python 3 (ipykernel)",
   "language": "python",
   "name": "python3"
  },
  "language_info": {
   "codemirror_mode": {
    "name": "ipython",
    "version": 3
   },
   "file_extension": ".py",
   "mimetype": "text/x-python",
   "name": "python",
   "nbconvert_exporter": "python",
   "pygments_lexer": "ipython3",
   "version": "3.10.4"
  },
  "varInspector": {
   "cols": {
    "lenName": 16,
    "lenType": 16,
    "lenVar": 40
   },
   "kernels_config": {
    "python": {
     "delete_cmd_postfix": "",
     "delete_cmd_prefix": "del ",
     "library": "var_list.py",
     "varRefreshCmd": "print(var_dic_list())"
    },
    "r": {
     "delete_cmd_postfix": ") ",
     "delete_cmd_prefix": "rm(",
     "library": "var_list.r",
     "varRefreshCmd": "cat(var_dic_list()) "
    }
   },
   "types_to_exclude": [
    "module",
    "function",
    "builtin_function_or_method",
    "instance",
    "_Feature"
   ],
   "window_display": false
  },
  "vscode": {
   "interpreter": {
    "hash": "04c55434ed2b08bb5bf53ae5f55862aa0e3be3e7e24f24482bddca5922bab6dd"
   }
  }
 },
 "nbformat": 4,
 "nbformat_minor": 5
}
