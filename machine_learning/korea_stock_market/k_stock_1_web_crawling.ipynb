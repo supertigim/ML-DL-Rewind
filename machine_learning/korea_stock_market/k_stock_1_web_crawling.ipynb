{
 "cells": [
  {
   "cell_type": "code",
   "execution_count": 1,
   "id": "49287716",
   "metadata": {},
   "outputs": [],
   "source": [
    "import pandas as pd\n",
    "import requests"
   ]
  },
  {
   "cell_type": "code",
   "execution_count": 2,
   "id": "2da16e1c",
   "metadata": {},
   "outputs": [],
   "source": [
    "################################\n",
    "# ETF 종목 코드가 없어서 사용 안함\n",
    "################################\n",
    "if False:\n",
    "    code_df = pd.read_html('http://kind.krx.co.kr/corpgeneral/corpList.do?method=download&searchType=13', header=0)[0] \n",
    "\n",
    "    # 종목코드가 6자리이기 때문에 6자리를 맞춰주기 위해 설정해줌 \n",
    "    # code_df.종목코드 = code_df.종목코드.map('{:06d}'.format) \n",
    "\n",
    "    # 필요한 것은 회사명과 종목코드이기 때문에 필요없는 column들은 제외. \n",
    "    code_df = code_df[['회사명', '종목코드']] \n",
    "\n",
    "    # 한글로된 컬럼명을 영어로 바꿔준다. \n",
    "    code_df = code_df.rename(columns={'회사명': 'name', '종목코드': 'code'}) \n",
    "    code_df.head()\n",
    "\n",
    "    print(code_df.info())\n",
    "    print(code_df.loc[code_df['name'] == '삼성전자'])"
   ]
  },
  {
   "cell_type": "code",
   "execution_count": 4,
   "id": "37de9c57",
   "metadata": {},
   "outputs": [],
   "source": [
    "# 웹에서 얻어올지 지정 \n",
    "CSV_FILE:str = './data/233740_2022.09.05_2015.12.17.csv' # 없을 땐 None\n",
    "    \n",
    "MAX_SEARCH_PAGE:int = 168\n",
    "STOCK_CODE:str = '233740'"
   ]
  },
  {
   "cell_type": "code",
   "execution_count": 5,
   "id": "f08a836c",
   "metadata": {},
   "outputs": [],
   "source": [
    "# 종목 별 데이터를 네이버 Finanace에서 가져옴\n",
    "# 컬럼: 날짜,종가,전일비,시가,고가,저가,거래량\n",
    "def get_stock_data(code:str, max_search_page:int) -> pd.DataFrame:\n",
    "\n",
    "    import requests \n",
    "    FAKE_HEADER = {'User-agent': 'Mozilla/5.0'}\n",
    "    # KODEX 코스닥150 레버리지 일자데이터 url 가져오기 \n",
    "    url = f'http://finance.naver.com/item/sise_day.nhn?code={code}'\n",
    "\n",
    "    max_search_page = max(2, max_search_page) # 최소 1페이지는 검색 \n",
    "    \n",
    "    # 일자 데이터를 담을 df라는 DataFrame 정의 \n",
    "    df_res = pd.DataFrame() \n",
    "    # 마자막 ROW를 찾기 위한 변수  \n",
    "    prev_row_size = float('inf')\n",
    "\n",
    "    # 1페이지에서 MAX_SEARCH_PAGE 페이지의 데이터만 가져오기 \n",
    "    for page in range(1, MAX_SEARCH_PAGE): \n",
    "        pg_url = '{url}&page={page}'.format(url=url, page=page) \n",
    "\n",
    "        # header = 0 가져온 table의 첫 행을 DataFrame의 컬럼으로 설정\n",
    "        # [0] 지정한 URL의 첫번째 table을 DataFrame으로 반환\n",
    "        next_df = pd.read_html(requests.get(pg_url, headers=FAKE_HEADER).text, header=0)[0]\n",
    "        next_df = next_df.dropna() \n",
    "        df_res = pd.concat([df_res, next_df])\n",
    "\n",
    "        # 마지막 row 체크 \n",
    "        if prev_row_size != float('inf') and prev_row_size != next_df.shape[0]: \n",
    "            break\n",
    "        prev_row_size = next_df.shape[0]\n",
    "\n",
    "    # 필요 없음 \n",
    "    #df_res = df_res[[\"날짜\",\"종가\", \"전일비\", \"시가\", \"고가\", \"저가\", \"거래량\"]]\n",
    "\n",
    "    # df.dropna()를 이용해 결측값 있는 행 제거 \n",
    "    return df_res.dropna() "
   ]
  },
  {
   "cell_type": "code",
   "execution_count": 6,
   "id": "62baab33",
   "metadata": {},
   "outputs": [],
   "source": [
    "# csv 파일 저장 (이름 규칙: code _최근날짜_가장예전날짜.csv)\n",
    "def save_stock_csv(code_s:str, df_s: pd.DataFrame, data_dir:str = './data') -> None:\n",
    "    print(df_s.iloc[0]['날짜'])\n",
    "    print(df_s.iloc[-1]['날짜'])\n",
    "\n",
    "    recent_date = df_s.iloc[0]['날짜']\n",
    "    oldest_date = df_s.iloc[-1]['날짜']\n",
    "\n",
    "    filename = f'{code_s}_{recent_date}_{oldest_date}'\n",
    "    print(filename)\n",
    "    \n",
    "    df_s.to_csv(data_dir+'/'+filename+'.csv')"
   ]
  },
  {
   "cell_type": "code",
   "execution_count": 7,
   "id": "eb2c1614",
   "metadata": {},
   "outputs": [
    {
     "name": "stdout",
     "output_type": "stream",
     "text": [
      "From CSV file:  ./data/233740_2022.09.05_2015.12.17.csv\n"
     ]
    }
   ],
   "source": [
    "df_kodaq:pd.DataFrame = None \n",
    "    \n",
    "if not CSV_FILE:\n",
    "    print('Web Crawling!!!')\n",
    "    df_kodaq = get_stock_data(STOCK_CODE, MAX_SEARCH_PAGE)\n",
    "\n",
    "    # 상위 5개 데이터 확인하기 \n",
    "    df_kodaq[:5]\n",
    "    \n",
    "    save_stock_csv(STOCK_CODE, df_kodaq)\n",
    "else:\n",
    "    print('From CSV file: ', CSV_FILE)\n",
    "    df_kodaq = pd.read_csv(CSV_FILE)"
   ]
  },
  {
   "cell_type": "code",
   "execution_count": 8,
   "id": "487727bf",
   "metadata": {},
   "outputs": [
    {
     "name": "stdout",
     "output_type": "stream",
     "text": [
      "<class 'pandas.core.frame.DataFrame'>\n",
      "RangeIndex: 1651 entries, 0 to 1650\n",
      "Data columns (total 8 columns):\n",
      " #   Column      Non-Null Count  Dtype  \n",
      "---  ------      --------------  -----  \n",
      " 0   Unnamed: 0  1651 non-null   int64  \n",
      " 1   날짜          1651 non-null   object \n",
      " 2   종가          1651 non-null   float64\n",
      " 3   전일비         1651 non-null   float64\n",
      " 4   시가          1651 non-null   float64\n",
      " 5   고가          1651 non-null   float64\n",
      " 6   저가          1651 non-null   float64\n",
      " 7   거래량         1651 non-null   float64\n",
      "dtypes: float64(6), int64(1), object(1)\n",
      "memory usage: 103.3+ KB\n"
     ]
    }
   ],
   "source": [
    "df_kodaq.info()"
   ]
  }
 ],
 "metadata": {
  "kernelspec": {
   "display_name": "Python 3 (ipykernel)",
   "language": "python",
   "name": "python3"
  },
  "language_info": {
   "codemirror_mode": {
    "name": "ipython",
    "version": 3
   },
   "file_extension": ".py",
   "mimetype": "text/x-python",
   "name": "python",
   "nbconvert_exporter": "python",
   "pygments_lexer": "ipython3",
   "version": "3.10.0"
  }
 },
 "nbformat": 4,
 "nbformat_minor": 5
}
