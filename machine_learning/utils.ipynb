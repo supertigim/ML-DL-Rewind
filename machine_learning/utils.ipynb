{
 "cells": [
  {
   "cell_type": "markdown",
   "metadata": {},
   "source": [
    "# 복/붙으로 쓸 수 있는 코드 Snippets "
   ]
  },
  {
   "cell_type": "code",
   "execution_count": 3,
   "metadata": {},
   "outputs": [],
   "source": [
    "''' \n",
    "    보지 않을 Warning 메시지 없애기 \n",
    "'''\n",
    "import warnings\n",
    "# 불필요한 경고 출력을 방지합니다.\n",
    "warnings.filterwarnings('ignore')\n"
   ]
  },
  {
   "cell_type": "code",
   "execution_count": 4,
   "metadata": {},
   "outputs": [],
   "source": [
    "''' \n",
    "    Jupyter Notebook에서 모듈 설치하기\n",
    "'''\n",
    "import sys\n",
    "import subprocess\n",
    "\n",
    "def install(package):\n",
    "    subprocess.check_call([sys.executable, \"-m\", \"pip\", \"install\", package])\n",
    "\n",
    "# 예제 \n",
    "# install(\"folium\")\n",
    "# install(\"seaborn\")\n",
    "# install(\"xgboost\")\n",
    "\n",
    "'''\n",
    "이렇게 해도 됨 \n",
    "!pip install folium seaborn xgboos \n",
    "'''"
   ]
  },
  {
   "cell_type": "code",
   "execution_count": 1,
   "metadata": {},
   "outputs": [],
   "source": [
    "'''  \n",
    "\n",
    "크론바흐 계수(신뢰도)를 계산하는 함수\n",
    "0.8 이상 양호 \n",
    "\n",
    "'''\n",
    "import numpy as np\n",
    "import pandas as pd\n",
    "from pandas import DataFrame\n",
    "\n",
    "def CronbachAlpha(itemscores:DataFrame):\n",
    "    itemscores = np.asarray(itemscores)\n",
    "    itemvars = itemscores.var(axis=0, ddof=1)\n",
    "    tscores = itemscores.sum(axis=1)\n",
    "    nitems = itemscores.shape[1]\n",
    "    return (nitems / (nitems-1)) * (1 - (itemvars.sum() / tscores.var(ddof=1)))"
   ]
  },
  {
   "cell_type": "code",
   "execution_count": null,
   "metadata": {},
   "outputs": [],
   "source": [
    "''' \n",
    "Matplotlib의 Font 변경\n",
    "'''\n",
    "import seaborn as sns\n",
    "import matplotlib.pyplot as plt\n",
    "import matplotlib.font_manager as fm\n",
    "fm.get_fontconfig_fonts()\n",
    "\n",
    "font_list = [font.name for font in fm.fontManager.ttflist]\n",
    "font_list.sort()\n",
    "print(font_list)\n",
    "\n",
    "sns.set(font=\"글꼴 이름\", \n",
    "        rc={\"axes.unicode_minus\":False}, # 마이너스 부호 깨짐 현상 해결\n",
    "        style='darkgrid')\n",
    "\n",
    "ax = sns.countplot(x=df_ex['your column name'], palette = \"RdBu\")"
   ]
  },
  {
   "cell_type": "code",
   "execution_count": 8,
   "metadata": {},
   "outputs": [
    {
     "data": {
      "text/html": [
       "<div>\n",
       "<style scoped>\n",
       "    .dataframe tbody tr th:only-of-type {\n",
       "        vertical-align: middle;\n",
       "    }\n",
       "\n",
       "    .dataframe tbody tr th {\n",
       "        vertical-align: top;\n",
       "    }\n",
       "\n",
       "    .dataframe thead th {\n",
       "        text-align: right;\n",
       "    }\n",
       "</style>\n",
       "<table border=\"1\" class=\"dataframe\">\n",
       "  <thead>\n",
       "    <tr style=\"text-align: right;\">\n",
       "      <th></th>\n",
       "      <th>column1</th>\n",
       "      <th>column2</th>\n",
       "    </tr>\n",
       "  </thead>\n",
       "  <tbody>\n",
       "    <tr>\n",
       "      <th>0</th>\n",
       "      <td>50.0</td>\n",
       "      <td>22.0</td>\n",
       "    </tr>\n",
       "    <tr>\n",
       "      <th>1</th>\n",
       "      <td>70.0</td>\n",
       "      <td>50.0</td>\n",
       "    </tr>\n",
       "    <tr>\n",
       "      <th>2</th>\n",
       "      <td>70.0</td>\n",
       "      <td>66.0</td>\n",
       "    </tr>\n",
       "    <tr>\n",
       "      <th>3</th>\n",
       "      <td>55.0</td>\n",
       "      <td>66.0</td>\n",
       "    </tr>\n",
       "  </tbody>\n",
       "</table>\n",
       "</div>"
      ],
      "text/plain": [
       "   column1  column2\n",
       "0     50.0     22.0\n",
       "1     70.0     50.0\n",
       "2     70.0     66.0\n",
       "3     55.0     66.0"
      ]
     },
     "execution_count": 8,
     "metadata": {},
     "output_type": "execute_result"
    }
   ],
   "source": [
    "''' \n",
    "결측치 제거 코드 \n",
    "'''\n",
    "import pandas as pd \n",
    "\n",
    "# 샘플테이블 생성\n",
    "sample = pd.DataFrame(\n",
    "        {\n",
    "            'column1':[50,70,np.nan,55],\n",
    "            'column2':[22,50,66,np.nan]\n",
    "        })\n",
    "sample\n",
    "\n",
    "# dropna : 제거하기\n",
    "sample.dropna()\n",
    "\n",
    "# fillna(number) : number로 채우기 \n",
    "sample.fillna(0)\n",
    "\n",
    "# 위와 결과 틀림! 쓰기전 확인 필요 \n",
    "# fillna(method) : 다양한 방법으로 채우기 \n",
    "# 'backfill'/'bfill': 바로 뒤에 값으로 채우기, 'pad'/'ffill': 바로 앞의 값으로 채우기\n",
    "sample.fillna(method='pad')"
   ]
  },
  {
   "cell_type": "code",
   "execution_count": null,
   "metadata": {},
   "outputs": [],
   "source": []
  }
 ],
 "metadata": {
  "kernelspec": {
   "display_name": "Python 3.9.0 ('.venv': poetry)",
   "language": "python",
   "name": "python3"
  },
  "language_info": {
   "codemirror_mode": {
    "name": "ipython",
    "version": 3
   },
   "file_extension": ".py",
   "mimetype": "text/x-python",
   "name": "python",
   "nbconvert_exporter": "python",
   "pygments_lexer": "ipython3",
   "version": "3.9.0"
  },
  "orig_nbformat": 4,
  "vscode": {
   "interpreter": {
    "hash": "07cdfebab5d8c53abe908a838a23493440b57bdebbf086428a8f9ad9fa2eea5d"
   }
  }
 },
 "nbformat": 4,
 "nbformat_minor": 2
}
