{
 "cells": [
  {
   "cell_type": "code",
   "execution_count": 1,
   "metadata": {},
   "outputs": [],
   "source": [
    "import torch\n",
    "from torch.utils.data import Dataset, DataLoader \n",
    "\n",
    "class CustomDataset(Dataset):\n",
    "    def __init__(self, text, labels):\n",
    "        self.text = text \n",
    "        self.labels = labels \n",
    "\n",
    "    def __len__(self):\n",
    "        return len(self.labels)\n",
    "    \n",
    "    def __getitem__(self, idx):\n",
    "        label = self.labels[idx]\n",
    "        text = self.text[idx]\n",
    "        sample = {\"Text\": text, \"Class\": label}\n",
    "        return sample "
   ]
  },
  {
   "cell_type": "code",
   "execution_count": 2,
   "metadata": {},
   "outputs": [],
   "source": [
    "text = ['Happy', 'Amazing', 'Sad', 'Unhappy', 'Glum']\n",
    "labels = ['Positive', 'Positive', 'Negative', 'Negative', 'Negative']\n",
    "MyDataset = CustomDataset(text, labels)"
   ]
  },
  {
   "cell_type": "code",
   "execution_count": 3,
   "metadata": {},
   "outputs": [
    {
     "data": {
      "text/plain": [
       "{'Text': ['Happy', 'Glum'], 'Class': ['Positive', 'Negative']}"
      ]
     },
     "execution_count": 3,
     "metadata": {},
     "output_type": "execute_result"
    }
   ],
   "source": [
    "MyDataLoader = DataLoader(MyDataset, batch_size=2, shuffle=True)\n",
    "next(iter(MyDataLoader))"
   ]
  },
  {
   "cell_type": "code",
   "execution_count": 4,
   "metadata": {},
   "outputs": [
    {
     "name": "stdout",
     "output_type": "stream",
     "text": [
      "{'Text': ['Glum', 'Unhappy'], 'Class': ['Negative', 'Negative']}\n",
      "{'Text': ['Amazing', 'Happy'], 'Class': ['Positive', 'Positive']}\n",
      "{'Text': ['Sad'], 'Class': ['Negative']}\n"
     ]
    }
   ],
   "source": [
    "MyDataLoader = DataLoader(MyDataset, batch_size=2, shuffle=True)\n",
    "\n",
    "for dataset in MyDataLoader:\n",
    "    print(dataset)"
   ]
  },
  {
   "cell_type": "markdown",
   "metadata": {},
   "source": [
    "# Custom Dataset"
   ]
  },
  {
   "cell_type": "code",
   "execution_count": 5,
   "metadata": {},
   "outputs": [],
   "source": [
    "from torchvision.datasets import VisionDataset\n",
    "from typing import Any, Callable, Dict, List, Optional, Tuple \n",
    "import os\n",
    "\n",
    "from tqdm import tqdm \n",
    "import os \n",
    "import sys \n",
    "from pathlib import Path \n",
    "import requests \n",
    "\n",
    "from skimage import io, transform \n",
    "import matplotlib.pyplot as plt "
   ]
  },
  {
   "cell_type": "code",
   "execution_count": 110,
   "metadata": {},
   "outputs": [],
   "source": [
    "import tarfile\n",
    "\n",
    "class NotMNIST(VisionDataset):\n",
    "    headers = {\n",
    "    'User-Agent': 'Mozilla/5.0 (Macintosh; Intel Mac OS X 10.12; rv:55.0) Gecko/20100101 Firefox/55.0',\n",
    "    }\n",
    "\n",
    "    # http://yaroslavvb.com/upload/notMNIST/\n",
    "    resource_url = 'http://yaroslavvb.com/upload/notMNIST/notMNIST_large.tar.gz'\n",
    "\n",
    "    def __init__(self, \n",
    "                root: str, \n",
    "                train: bool = True, \n",
    "                transform: Optional[Callable] = None, \n",
    "                target_transform: Optional[Callable] = None,\n",
    "                download: bool = False\n",
    "    ) -> None:\n",
    "        super(NotMNIST, self).__init__(root, \n",
    "                                        transform=transform, \n",
    "                                        target_transform=target_transform)\n",
    "        \n",
    "        if not self._check_exists() and download: self.download()\n",
    "        \n",
    "        self.data, self.targets = self._load_data()\n",
    "\n",
    "\n",
    "    def __len__(self) -> int:\n",
    "        return len(self.data)\n",
    "\n",
    "    def __getitem__(self, idx: int) :\n",
    "        image_name = self.data[idx]\n",
    "        image = io.imread(image_name)\n",
    "        label = self.targets[idx]\n",
    "        if self.transform:\n",
    "            image = self.transform(image)\n",
    "        return image, label\n",
    "\n",
    "    def _load_data(self):\n",
    "        filepath = self.image_folder \n",
    "        data = list()\n",
    "        targets = list()\n",
    "\n",
    "        for target in os.listdir(filepath):\n",
    "            if not os.path.isdir(os.path.join(filepath, target)): continue\n",
    "            filename = [os.path.abspath(os.path.join(filepath, target, x)) \n",
    "                        for x in os.listdir(os.path.join(filepath, target))]\n",
    "            targets.extend([target] * len(filename))\n",
    "            data.extend(filename)\n",
    "        \n",
    "        print(\"data size is \",len(data))\n",
    "        return data, targets\n",
    "\n",
    "    @property \n",
    "    def raw_folder(self) -> str:\n",
    "        return os.path.join(self.root, self.__class__.__name__, 'raw') \n",
    "\n",
    "    @property \n",
    "    def image_folder(self) -> str:\n",
    "        return os.path.join(self.root, 'notMNIST_large')\n",
    "\n",
    "    def _urlretrieve(self, url: str, filename: str, chunk_size: int = 1024) -> None:\n",
    "        ''' This is test code from the template '''\n",
    "        USER_AGENT = \"pytorch/vision\"\n",
    "        import urllib \n",
    "\n",
    "        with open(filename, \"wb\") as fh:\n",
    "            with urllib.request.urlopen(urllib.request.Request(url, headers={\"User-Agent\": USER_AGENT})) as response:\n",
    "                with tqdm(total=response.length) as pbar:\n",
    "                    for chunk in iter(lambda: response.read(chunk_size), \"\"):\n",
    "                        if not chunk:\n",
    "                            break\n",
    "                        pbar.update(chunk_size)\n",
    "                        fh.write(chunk)\n",
    "\n",
    "    def download(self) -> None:\n",
    "        os.makedirs(self.raw_folder, exist_ok=True)\n",
    "        fname = self.resource_url.split('/')[-1]\n",
    "        chunk_size = 1024\n",
    "\n",
    "        #self._urlretrieve(self.resource_url, fname, chunk_size=chunk_size)\n",
    "        filesize = int(requests.head(self.resource_url,headers=self.headers).headers[\"Content-Length\"])\n",
    "        print(f\"file name: {fname} - size: {filesize}\")\n",
    "\n",
    "        with open(os.path.join(self.raw_folder, fname), \"wb\") as f, requests.get(\n",
    "            self.resource_url, stream=True, headers=self.headers) as r, tqdm (                                                   \n",
    "            unit=\"B\",                                           \n",
    "            unit_scale=True,                                   \n",
    "            unit_divisor=1024,                                  \n",
    "            total=filesize,                                     \n",
    "            file=sys.stdout,                                \n",
    "            desc=fname                                          \n",
    "        ) as progress:\n",
    "            for chunk in r.iter_content(chunk_size=chunk_size):\n",
    "                if not chunk: break\n",
    "                # download the file chunk by chunk\n",
    "                datasize = f.write(chunk)\n",
    "                # on each chunk update the progress bar.\n",
    "                progress.update(datasize)\n",
    "\n",
    "        self._extract_file(os.path.join(self.raw_folder, fname), target_path=self.root)\n",
    "\n",
    "    def _extract_file(self, fname, target_path) -> None:\n",
    "        if fname.endswith(\"tar.gz\"):\n",
    "            tag = \"r:gz\"\n",
    "        elif fname.endswith(\"tar\"):\n",
    "            tag = \"r:\"\n",
    "        \n",
    "        tar = tarfile.open(fname, tag)\n",
    "        tar.extractall(path=target_path)\n",
    "        tar.close()\n",
    "\n",
    "    def _check_exists(self) -> bool:\n",
    "        return os.path.exists(self.raw_folder)\n"
   ]
  },
  {
   "cell_type": "code",
   "execution_count": 111,
   "metadata": {},
   "outputs": [
    {
     "name": "stdout",
     "output_type": "stream",
     "text": [
      "data size is  529119\n"
     ]
    }
   ],
   "source": [
    "dataset = NotMNIST(\"data\", download=True)"
   ]
  },
  {
   "cell_type": "code",
   "execution_count": 112,
   "metadata": {},
   "outputs": [
    {
     "data": {
      "image/png": "[encoded data removed]",
      "text/plain": [
       "<Figure size 432x288 with 4 Axes>"
      ]
     },
     "metadata": {
      "needs_background": "light"
     },
     "output_type": "display_data"
    }
   ],
   "source": [
    "fig = plt.figure()\n",
    "\n",
    "for i in range(8):\n",
    "    sample = dataset[i]\n",
    "\n",
    "    ax  = plt.subplot(1, 4, i + 1)\n",
    "    plt.tight_layout()\n",
    "    ax.set_title('Sample #{}'.format(i))\n",
    "    ax.axis('off')\n",
    "    plt.imshow(sample[0])\n",
    "\n",
    "    if i == 3:\n",
    "        plt.show()\n",
    "        break"
   ]
  },
  {
   "cell_type": "code",
   "execution_count": 113,
   "metadata": {},
   "outputs": [
    {
     "name": "stdout",
     "output_type": "stream",
     "text": [
      "data size is  529119\n"
     ]
    }
   ],
   "source": [
    "import torch \n",
    "from torchvision import transforms, datasets \n",
    "from torch.utils.data import DataLoader\n",
    "\n",
    "data_transform = transforms.Compose([ \n",
    "    transforms.RandomResizedCrop(224),\n",
    "    transforms.RandomHorizontalFlip(),\n",
    "    transforms.ToTensor(),\n",
    "    transforms.Normalize(mean=[0.485, 0.456, 0.406], std=[0.229, 0.224, 0.225])\n",
    "])\n",
    "\n",
    "dataset = NotMNIST(\"data\", download=False)"
   ]
  },
  {
   "cell_type": "code",
   "execution_count": 114,
   "metadata": {},
   "outputs": [],
   "source": [
    "\n",
    "dataset_loader = DataLoader(dataset, batch_size=128, shuffle=True)"
   ]
  },
  {
   "cell_type": "code",
   "execution_count": 115,
   "metadata": {},
   "outputs": [],
   "source": [
    "train_features, train_labels = next(iter(dataset_loader))"
   ]
  },
  {
   "cell_type": "code",
   "execution_count": 116,
   "metadata": {},
   "outputs": [
    {
     "data": {
      "text/plain": [
       "torch.Size([128, 28, 28])"
      ]
     },
     "execution_count": 116,
     "metadata": {},
     "output_type": "execute_result"
    }
   ],
   "source": [
    "train_features.shape"
   ]
  },
  {
   "cell_type": "code",
   "execution_count": 117,
   "metadata": {},
   "outputs": [
    {
     "data": {
      "text/plain": [
       "('J',\n",
       " 'I',\n",
       " 'H',\n",
       " 'B',\n",
       " 'C',\n",
       " 'G',\n",
       " 'A',\n",
       " 'I',\n",
       " 'B',\n",
       " 'G',\n",
       " 'I',\n",
       " 'A',\n",
       " 'D',\n",
       " 'J',\n",
       " 'I',\n",
       " 'J',\n",
       " 'J',\n",
       " 'J',\n",
       " 'F',\n",
       " 'F',\n",
       " 'C',\n",
       " 'G',\n",
       " 'D',\n",
       " 'H',\n",
       " 'E',\n",
       " 'D',\n",
       " 'D',\n",
       " 'E',\n",
       " 'A',\n",
       " 'J',\n",
       " 'B',\n",
       " 'C',\n",
       " 'J',\n",
       " 'E',\n",
       " 'F',\n",
       " 'B',\n",
       " 'C',\n",
       " 'I',\n",
       " 'B',\n",
       " 'A',\n",
       " 'B',\n",
       " 'G',\n",
       " 'B',\n",
       " 'E',\n",
       " 'A',\n",
       " 'E',\n",
       " 'F',\n",
       " 'E',\n",
       " 'C',\n",
       " 'C',\n",
       " 'F',\n",
       " 'J',\n",
       " 'E',\n",
       " 'J',\n",
       " 'I',\n",
       " 'I',\n",
       " 'A',\n",
       " 'G',\n",
       " 'I',\n",
       " 'I',\n",
       " 'D',\n",
       " 'E',\n",
       " 'B',\n",
       " 'J',\n",
       " 'I',\n",
       " 'E',\n",
       " 'B',\n",
       " 'D',\n",
       " 'G',\n",
       " 'G',\n",
       " 'G',\n",
       " 'G',\n",
       " 'D',\n",
       " 'F',\n",
       " 'G',\n",
       " 'I',\n",
       " 'C',\n",
       " 'I',\n",
       " 'I',\n",
       " 'C',\n",
       " 'G',\n",
       " 'J',\n",
       " 'B',\n",
       " 'B',\n",
       " 'F',\n",
       " 'J',\n",
       " 'D',\n",
       " 'C',\n",
       " 'D',\n",
       " 'E',\n",
       " 'D',\n",
       " 'C',\n",
       " 'D',\n",
       " 'I',\n",
       " 'B',\n",
       " 'J',\n",
       " 'D',\n",
       " 'G',\n",
       " 'D',\n",
       " 'G',\n",
       " 'J',\n",
       " 'B',\n",
       " 'H',\n",
       " 'E',\n",
       " 'E',\n",
       " 'D',\n",
       " 'B',\n",
       " 'H',\n",
       " 'A',\n",
       " 'E',\n",
       " 'C',\n",
       " 'A',\n",
       " 'F',\n",
       " 'A',\n",
       " 'F',\n",
       " 'C',\n",
       " 'D',\n",
       " 'F',\n",
       " 'C',\n",
       " 'I',\n",
       " 'H',\n",
       " 'J',\n",
       " 'E',\n",
       " 'D',\n",
       " 'A',\n",
       " 'E',\n",
       " 'E',\n",
       " 'F')"
      ]
     },
     "execution_count": 117,
     "metadata": {},
     "output_type": "execute_result"
    }
   ],
   "source": [
    "train_labels"
   ]
  },
  {
   "cell_type": "code",
   "execution_count": null,
   "metadata": {},
   "outputs": [],
   "source": []
  }
 ],
 "metadata": {
  "kernelspec": {
   "display_name": "Python 3.10.4 ('torch')",
   "language": "python",
   "name": "python3"
  },
  "language_info": {
   "codemirror_mode": {
    "name": "ipython",
    "version": 3
   },
   "file_extension": ".py",
   "mimetype": "text/x-python",
   "name": "python",
   "nbconvert_exporter": "python",
   "pygments_lexer": "ipython3",
   "version": "3.10.4"
  },
  "orig_nbformat": 4,
  "vscode": {
   "interpreter": {
    "hash": "04c55434ed2b08bb5bf53ae5f55862aa0e3be3e7e24f24482bddca5922bab6dd"
   }
  }
 },
 "nbformat": 4,
 "nbformat_minor": 2
}
